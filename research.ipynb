{
 "cells": [
  {
   "cell_type": "code",
   "execution_count": 1,
   "metadata": {},
   "outputs": [
    {
     "name": "stdout",
     "output_type": "stream",
     "text": [
      "hello world!\n"
     ]
    }
   ],
   "source": [
    "print(\"hello world!\")"
   ]
  },
  {
   "cell_type": "code",
   "execution_count": 2,
   "metadata": {},
   "outputs": [
    {
     "data": {
      "text/plain": [
       "'24-01-25 10:52:40.log'"
      ]
     },
     "execution_count": 2,
     "metadata": {},
     "output_type": "execute_result"
    }
   ],
   "source": [
    "import logging,os\n",
    "from datetime import datetime\n",
    "dir_name = \"insurance_logs\"\n",
    "# os.makedirs(dir_name,exist_ok=True)\n",
    "\n",
    "time_stamp=datetime.now().strftime(\"%d-%m-%y %H:%M:%S\")\n",
    "file_name=time_stamp + \".log\"\n",
    "\n",
    "log_file_path = os.path.join(dir_name, file_name)\n"
   ]
  },
  {
   "cell_type": "code",
   "execution_count": 1,
   "metadata": {},
   "outputs": [],
   "source": [
    "import sys \n",
    "class InsuranceException(Exception):\n",
    "    def __init__(self,error_message : Exception,error_details : sys):\n",
    "        super().__init__(error_message)\n",
    "        self.error_message = InsuranceException.error_message_detail(error_message,error_details=error_details)\n",
    "\n",
    "\n",
    "    @staticmethod\n",
    "    def error_message_detail(error:Exception,error_details : sys)->str:\n",
    "        error_class,error_message,exc_tb = error_details.exc_info()\n",
    "        line_number = exc_tb.tb_frame.f_lineno\n",
    "        file_name = exc_tb.tb_frame.f_code.co_filename\n",
    "\n",
    "        error_message = f\"error occured in this{file_name}file,at the line no. [{line_number}], error message:- [{error_message}]\"\n",
    "        return error_message\n",
    "    \n",
    "\n",
    "    def __str__(self):\n",
    "        return InsuranceException.__name__.__str__()"
   ]
  },
  {
   "cell_type": "code",
   "execution_count": 2,
   "metadata": {},
   "outputs": [
    {
     "name": "stdout",
     "output_type": "stream",
     "text": [
      "InsuranceException\n"
     ]
    }
   ],
   "source": [
    "try: \n",
    "    10/0\n",
    "except Exception as e:\n",
    "\n",
    "    stre = InsuranceException(e,sys)\n",
    "    print(stre)"
   ]
  },
  {
   "cell_type": "code",
   "execution_count": 3,
   "metadata": {},
   "outputs": [],
   "source": [
    "import pandas as pd\n"
   ]
  },
  {
   "cell_type": "code",
   "execution_count": 9,
   "metadata": {},
   "outputs": [],
   "source": [
    "df = pd.read_csv(\"insurance.csv\")\n",
    "first_portion = df.loc[0:df.shape[0]//2]\n",
    "second_portion = df.loc[df.shape[0]//2+1:]"
   ]
  },
  {
   "cell_type": "code",
   "execution_count": 12,
   "metadata": {},
   "outputs": [],
   "source": [
    "first_portion.to_csv(\"firsthalf_data.csv\")\n",
    "\n",
    "second_portion.to_csv(\"secondhalf_data.csv\")"
   ]
  },
  {
   "cell_type": "code",
   "execution_count": null,
   "metadata": {},
   "outputs": [],
   "source": []
  }
 ],
 "metadata": {
  "kernelspec": {
   "display_name": "Python 3",
   "language": "python",
   "name": "python3"
  },
  "language_info": {
   "codemirror_mode": {
    "name": "ipython",
    "version": 3
   },
   "file_extension": ".py",
   "mimetype": "text/x-python",
   "name": "python",
   "nbconvert_exporter": "python",
   "pygments_lexer": "ipython3",
   "version": "3.13.1"
  }
 },
 "nbformat": 4,
 "nbformat_minor": 2
}
